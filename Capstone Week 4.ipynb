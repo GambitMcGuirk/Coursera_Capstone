{
 "cells": [
  {
   "cell_type": "markdown",
   "metadata": {},
   "source": [
    "# A description of the problem and a discussion of the background. (15 marks)\n",
    "### The City of Chicago has had many problems keeping up with expenditures, particularly an ever growing pension deficit. They are constantly seeking new ways to increase tax revenue to support the budget, however too much pressure has caused people to leave the state. One proposal to increase tax revenues without necessarily increasing the burden on residents is to allow one or more casinos to be opened within city limits. This would generate tax revenues from both residents and non-residents and may attract more visitors.\n",
    "\n",
    "### Many questions have arisen about where a casino should be placed so as to be accessible, while not adversely impacting other venues in the area. The city would like to find an ideal location that will help the area surrounding the casino to grow. My task is to explore where a casino could be placed and determine where it may be the most successful."
   ]
  },
  {
   "cell_type": "markdown",
   "metadata": {},
   "source": [
    "#A description of the data and how it will be used to solve the problem.\n",
    "\n",
    "### In order to address this problem I will use data from several websites such as wikipedia to obtain a list of community areas, city of Chicago map as needed to establish geographic boundaries, I will look at an actual survey done to see some of the priorities in placing the casino and may supplement this set with additional data as needed to address the main concerns identified in the survey.\n",
    "\n",
    "https://en.wikipedia.org/wiki/Community_areas_in_Chicago\n",
    
    "https://data.cityofchicago.org/Facilities-Geographic-Boundaries/Chicago-Zip-Code-and-Neighborhood-Map/mapn-ahfc\n",
    
    "https://www.chicago.gov/city/en/sites/chicago-casino/home/survey.html"
   ]
  }
 ],
 "metadata": {
  "kernelspec": {
   "display_name": "Python 3",
   "language": "python",
   "name": "python3"
  },
  "language_info": {
   "codemirror_mode": {
    "name": "ipython",
    "version": 3
   },
   "file_extension": ".py",
   "mimetype": "text/x-python",
   "name": "python",
   "nbconvert_exporter": "python",
   "pygments_lexer": "ipython3",
   "version": "3.8.5"
  }
 },
 "nbformat": 4,
 "nbformat_minor": 4
}
